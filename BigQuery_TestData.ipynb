{
 "cells": [
  {
   "cell_type": "code",
   "execution_count": null,
   "id": "3c31b7d4",
   "metadata": {},
   "outputs": [],
   "source": [
    "import pandas as pd\n",
    "from pandas_gbq import to_gbq\n",
    "import pandas as pd\n",
    "from faker import Faker\n",
    "import random\n",
    "\n",
    "\n",
    "fake = Faker()\n",
    "\n",
    "def create_sales_transactions(num_transactions):\n",
    "    sales_data = []\n",
    "    for _ in range(num_transactions):\n",
    "        transaction = {\n",
    "            'transaction_id': fake.uuid4(),\n",
    "            'gender': random.choice(['Male', 'Female', 'Unspecified']),\n",
    "            'product_name': fake.word(ext_word_list=['Milk','Eggs','Bread','Cheese','Chicken Breast','Ground Beef','Salmon','Pasta','Rice','Cereal',\n",
    "            'Apples', 'Bananas', 'Grapes', 'Potatoes','Onions','Carrots','Tomatoes','Lettuce','Rice Bowls','Root Beer','Dish Soap',\n",
    "            'Broccoli', 'Peaches and Cream','Gluten Free Crackers','Yogurt','Butter','Olive Oil','Coffee','Sugar','Canned Tomatoes']),\n",
    "            'quantity': random.randint(1, 5),\n",
    "            'unit_price': round(random.uniform(50, 2000), 2),\n",
    "            'transaction_date': fake.date_between(start_date='-30d', end_date='today'),\n",
    "            'payment_method': random.choice(['Credit Card', 'Debit Card', 'Cash', 'Online Payment'])\n",
    "        }\n",
    "        sales_data.append(transaction)\n",
    "    return pd.DataFrame(sales_data)\n",
    "\n",
    "num_transactions = 50000\n",
    "sales_df = create_sales_transactions(num_transactions)\n",
    "\n",
    "#Next Step is to take the generated sales_df and send it to the BigQuery project on Google Console\n",
    "\n",
    "\n",
    "# Set project and table details\n",
    "project_id = 'bigquery-data-uploads'\n",
    "dataset_id = 'Test_Data_Faker'\n",
    "table_id = 'Grocery1'\n",
    "destination_table = f'{project_id}.{dataset_id}.{table_id}'\n",
    "\n",
    "# Write DataFrame to BigQuery\n",
    "to_gbq(sales_df, destination_table, project_id=project_id, if_exists='replace')\n"
   ]
  }
 ],
 "metadata": {
  "kernelspec": {
   "display_name": "Python 3",
   "language": "python",
   "name": "python3"
  },
  "language_info": {
   "codemirror_mode": {
    "name": "ipython",
    "version": 3
   },
   "file_extension": ".py",
   "mimetype": "text/x-python",
   "name": "python",
   "nbconvert_exporter": "python",
   "pygments_lexer": "ipython3",
   "version": "3.8.8"
  }
 },
 "nbformat": 4,
 "nbformat_minor": 5
}
